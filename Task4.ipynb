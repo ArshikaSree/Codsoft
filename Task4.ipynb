{
  "nbformat": 4,
  "nbformat_minor": 0,
  "metadata": {
    "colab": {
      "provenance": [],
      "authorship_tag": "ABX9TyOYnwXd+Ma1J9OwrMXa1UlZ",
      "include_colab_link": true
    },
    "kernelspec": {
      "name": "python3",
      "display_name": "Python 3"
    },
    "language_info": {
      "name": "python"
    }
  },
  "cells": [
    {
      "cell_type": "markdown",
      "metadata": {
        "id": "view-in-github",
        "colab_type": "text"
      },
      "source": [
        "<a href=\"https://colab.research.google.com/github/ArshikaSree/Codsoft/blob/main/Task4.ipynb\" target=\"_parent\"><img src=\"https://colab.research.google.com/assets/colab-badge.svg\" alt=\"Open In Colab\"/></a>"
      ]
    },
    {
      "cell_type": "code",
      "execution_count": 3,
      "metadata": {
        "colab": {
          "base_uri": "https://localhost:8080/"
        },
        "id": "_so99I8n8jtN",
        "outputId": "3026417d-c141-4c7f-b29a-cdee22d658d5"
      },
      "outputs": [
        {
          "output_type": "stream",
          "name": "stdout",
          "text": [
            "\n",
            "--- Rock-Paper-Scissors Game ---\n",
            "1. Rock\n",
            "2. Paper\n",
            "3. Scissors\n",
            "4. Quit\n",
            "Enter your choice: 3\n",
            "\n",
            "You chose: scissors\n",
            "Computer chose: scissors\n",
            "It's a Tie!\n",
            "\n",
            "--- Rock-Paper-Scissors Game ---\n",
            "1. Rock\n",
            "2. Paper\n",
            "3. Scissors\n",
            "4. Quit\n",
            "Enter your choice: 2\n",
            "\n",
            "You chose: paper\n",
            "Computer chose: scissors\n",
            "Computer Wins!\n",
            "\n",
            "--- Rock-Paper-Scissors Game ---\n",
            "1. Rock\n",
            "2. Paper\n",
            "3. Scissors\n",
            "4. Quit\n",
            "Enter your choice: 4\n",
            "Game Over. Thanks for playing!\n"
          ]
        }
      ],
      "source": [
        "# rock-paper-scissors game\n",
        "\n",
        "import random\n",
        "\n",
        "choices = [\"rock\", \"paper\", \"scissors\"]\n",
        "\n",
        "def get_winner(player, computer):\n",
        "    if player == computer:\n",
        "        return \"It's a Tie!\"\n",
        "    elif (player == \"rock\" and computer == \"scissors\") or \\\n",
        "         (player == \"paper\" and computer == \"rock\") or \\\n",
        "         (player == \"scissors\" and computer == \"paper\"):\n",
        "        return \"You Win!\"\n",
        "    else:\n",
        "        return \"Computer Wins!\"\n",
        "\n",
        "while True:\n",
        "    print(\"\\n--- Rock-Paper-Scissors Game ---\")\n",
        "    print(\"1. Rock\")\n",
        "    print(\"2. Paper\")\n",
        "    print(\"3. Scissors\")\n",
        "    print(\"4. Quit\")\n",
        "\n",
        "    choice = input(\"Enter your choice: \")\n",
        "\n",
        "    if choice == '4':\n",
        "        print(\"Game Over. Thanks for playing!\")\n",
        "        break\n",
        "\n",
        "    if choice not in ['1', '2', '3']:\n",
        "        print(\"Invalid choice. Please select 1, 2, 3, or 4.\")\n",
        "        continue\n",
        "\n",
        "    player_choice = choices[int(choice) - 1]\n",
        "    computer_choice = random.choice(choices)\n",
        "\n",
        "    print(f\"\\nYou chose: {player_choice}\")\n",
        "    print(f\"Computer chose: {computer_choice}\")\n",
        "\n",
        "    result = get_winner(player_choice, computer_choice)\n",
        "    print(result)\n"
      ]
    }
  ]
}