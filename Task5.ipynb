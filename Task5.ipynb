{
  "nbformat": 4,
  "nbformat_minor": 0,
  "metadata": {
    "colab": {
      "provenance": [],
      "authorship_tag": "ABX9TyMG8KLI+eyoRLkcdjP/TiI+",
      "include_colab_link": true
    },
    "kernelspec": {
      "name": "python3",
      "display_name": "Python 3"
    },
    "language_info": {
      "name": "python"
    }
  },
  "cells": [
    {
      "cell_type": "markdown",
      "metadata": {
        "id": "view-in-github",
        "colab_type": "text"
      },
      "source": [
        "<a href=\"https://colab.research.google.com/github/ArshikaSree/Codsoft/blob/main/Task5.ipynb\" target=\"_parent\"><img src=\"https://colab.research.google.com/assets/colab-badge.svg\" alt=\"Open In Colab\"/></a>"
      ]
    },
    {
      "cell_type": "code",
      "execution_count": null,
      "metadata": {
        "id": "tKo-yPwM5p3g"
      },
      "outputs": [],
      "source": [
        "#TASK 5\n",
        "# Simple Contact Book\n",
        "\n",
        "contacts = {}\n",
        "\n",
        "def add_contact(name, number):\n",
        "    contacts[name] = number\n",
        "    print(f\"Contact '{name}' added successfully!\")\n",
        "\n",
        "def view_contacts():\n",
        "    if contacts:\n",
        "        print(\"\\nContacts List:\")\n",
        "        for name, number in contacts.items():\n",
        "            print(f\"{name}: {number}\")\n",
        "    else:\n",
        "        print(\"\\nNo contacts found.\")\n",
        "\n",
        "def update_contact(name, new_number):\n",
        "    if name in contacts:\n",
        "        contacts[name] = new_number\n",
        "        print(f\"Contact '{name}' updated successfully!\")\n",
        "    else:\n",
        "        print(\"Contact not found.\")\n",
        "\n",
        "def delete_contact(name):\n",
        "    if name in contacts:\n",
        "        del contacts[name]\n",
        "        print(f\"Contact '{name}' deleted successfully!\")\n",
        "    else:\n",
        "        print(\"Contact not found.\")\n",
        "\n",
        "def search_contact(name):\n",
        "    if name in contacts:\n",
        "        print(f\"{name}: {contacts[name]}\")\n",
        "    else:\n",
        "        print(\"Contact not found.\")\n",
        "\n",
        "# Main Loop\n",
        "while True:\n",
        "    print(\"\\n--- Contact Book ---\")\n",
        "    print(\"1. Add Contact\")\n",
        "    print(\"2. View Contacts\")\n",
        "    print(\"3. Update Contact\")\n",
        "    print(\"4. Delete Contact\")\n",
        "    print(\"5. Search Contact\")\n",
        "    print(\"6. Exit\")\n",
        "\n",
        "    choice = input(\"Enter your choice: \")\n",
        "\n",
        "    if choice == '1':\n",
        "        name = input(\"Enter name: \")\n",
        "        number = input(\"Enter number: \")\n",
        "        add_contact(name, number)\n",
        "    elif choice == '2':\n",
        "        view_contacts()\n",
        "    elif choice == '3':\n",
        "        name = input(\"Enter name to update: \")\n",
        "        new_number = input(\"Enter new number: \")\n",
        "        update_contact(name, new_number)\n",
        "    elif choice == '4':\n",
        "        name = input(\"Enter name to delete: \")\n",
        "        delete_contact(name)\n",
        "    elif choice == '5':\n",
        "        name = input(\"Enter name to search: \")\n",
        "        search_contact(name)\n",
        "    elif choice == '6':\n",
        "        print(\"Exiting Contact Book.\")\n",
        "        break\n",
        "    else:\n",
        "        print(\"Invalid choice. Please try again.\")\n"
      ]
    }
  ]
}