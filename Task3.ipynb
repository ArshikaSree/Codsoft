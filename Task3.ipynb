{
  "nbformat": 4,
  "nbformat_minor": 0,
  "metadata": {
    "colab": {
      "provenance": [],
      "authorship_tag": "ABX9TyOKM8/2VzL0m70cldguDNf4",
      "include_colab_link": true
    },
    "kernelspec": {
      "name": "python3",
      "display_name": "Python 3"
    },
    "language_info": {
      "name": "python"
    }
  },
  "cells": [
    {
      "cell_type": "markdown",
      "metadata": {
        "id": "view-in-github",
        "colab_type": "text"
      },
      "source": [
        "<a href=\"https://colab.research.google.com/github/ArshikaSree/Codsoft/blob/main/Task3.ipynb\" target=\"_parent\"><img src=\"https://colab.research.google.com/assets/colab-badge.svg\" alt=\"Open In Colab\"/></a>"
      ]
    },
    {
      "cell_type": "code",
      "execution_count": 1,
      "metadata": {
        "colab": {
          "base_uri": "https://localhost:8080/"
        },
        "id": "10Sex15in-o5",
        "outputId": "b770498a-d4e1-4388-8e48-6f7855b10008"
      },
      "outputs": [
        {
          "output_type": "stream",
          "name": "stdout",
          "text": [
            "Enter the desired password length: 8\n",
            "Generated Password: P;J8{{[3\n"
          ]
        }
      ],
      "source": [
        "#TASK 3\n",
        "#Password generator\n",
        "\n",
        "import random\n",
        "import string\n",
        "\n",
        "def generate_password(length=12):\n",
        "    # Define the characters to choose from\n",
        "    characters = string.ascii_letters + string.digits + string.punctuation\n",
        "    # Generate a random password\n",
        "    password = ''.join(random.choice(characters) for _ in range(length))\n",
        "    return password\n",
        "\n",
        "# Example usage\n",
        "if __name__ == \"__main__\":\n",
        "    password_length = int(input(\"Enter the desired password length: \"))\n",
        "    generated_password = generate_password(password_length)\n",
        "    print(\"Generated Password:\", generated_password)"
      ]
    }
  ]
}