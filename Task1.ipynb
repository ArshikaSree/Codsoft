{
  "nbformat": 4,
  "nbformat_minor": 0,
  "metadata": {
    "colab": {
      "provenance": [],
      "authorship_tag": "ABX9TyPcDPh+0xTMEj6bFu6h9MOV",
      "include_colab_link": true
    },
    "kernelspec": {
      "name": "python3",
      "display_name": "Python 3"
    },
    "language_info": {
      "name": "python"
    }
  },
  "cells": [
    {
      "cell_type": "markdown",
      "metadata": {
        "id": "view-in-github",
        "colab_type": "text"
      },
      "source": [
        "<a href=\"https://colab.research.google.com/github/ArshikaSree/Codsoft/blob/main/Task1.ipynb\" target=\"_parent\"><img src=\"https://colab.research.google.com/assets/colab-badge.svg\" alt=\"Open In Colab\"/></a>"
      ]
    },
    {
      "cell_type": "code",
      "execution_count": 2,
      "metadata": {
        "colab": {
          "base_uri": "https://localhost:8080/"
        },
        "id": "F0Q4gu2z-N3X",
        "outputId": "9d5944d6-0b39-4677-ab39-0fefab26fe87"
      },
      "outputs": [
        {
          "output_type": "stream",
          "name": "stdout",
          "text": [
            "\n",
            "--- To-Do List Menu ---\n",
            "1. Add Task\n",
            "2. View Tasks\n",
            "3. Mark as Complete\n",
            "4. Exit\n",
            "Enter your choice: 1\n",
            "Enter new task: cut the fruits\n",
            "Task 'cut the fruits' added successfully!\n",
            "\n",
            "--- To-Do List Menu ---\n",
            "1. Add Task\n",
            "2. View Tasks\n",
            "3. Mark as Complete\n",
            "4. Exit\n",
            "Enter your choice: 1\n",
            "Enter new task: wash the car\n",
            "Task 'wash the car' added successfully!\n",
            "\n",
            "--- To-Do List Menu ---\n",
            "1. Add Task\n",
            "2. View Tasks\n",
            "3. Mark as Complete\n",
            "4. Exit\n",
            "Enter your choice: 2\n",
            "\n",
            "--- To-Do List ---\n",
            "1. cut the fruits [NOT DONE]\n",
            "2. wash the car [NOT DONE]\n",
            "\n",
            "--- To-Do List Menu ---\n",
            "1. Add Task\n",
            "2. View Tasks\n",
            "3. Mark as Complete\n",
            "4. Exit\n",
            "Enter your choice: 3\n",
            "Enter task ID to mark as complete: 2\n",
            "Task 2 marked as completed!\n",
            "\n",
            "--- To-Do List Menu ---\n",
            "1. Add Task\n",
            "2. View Tasks\n",
            "3. Mark as Complete\n",
            "4. Exit\n",
            "Enter your choice: 2\n",
            "\n",
            "--- To-Do List ---\n",
            "1. cut the fruits [NOT DONE]\n",
            "2. wash the car [DONE]\n",
            "\n",
            "--- To-Do List Menu ---\n",
            "1. Add Task\n",
            "2. View Tasks\n",
            "3. Mark as Complete\n",
            "4. Exit\n",
            "Enter your choice: 4\n",
            "Exiting To-Do List.\n"
          ]
        }
      ],
      "source": [
        "# Simple To-Do List in Python\n",
        "\n",
        "tasks = []\n",
        "\n",
        "def add_task(task):\n",
        "    tasks.append({\"task\": task, \"completed\": False})\n",
        "    print(f\"Task '{task}' added successfully!\")\n",
        "\n",
        "def view_tasks():\n",
        "    if tasks:\n",
        "        print(\"\\n--- To-Do List ---\")\n",
        "        for index, task in enumerate(tasks, start=1):\n",
        "            status = \"DONE\" if task[\"completed\"] else \"NOT DONE\"\n",
        "            print(f\"{index}. {task['task']} [{status}]\")\n",
        "    else:\n",
        "        print(\"\\nNo tasks found.\")\n",
        "\n",
        "def mark_complete(task_id):\n",
        "    if 0 < task_id <= len(tasks):\n",
        "        tasks[task_id - 1][\"completed\"] = True\n",
        "        print(f\"Task {task_id} marked as completed!\")\n",
        "    else:\n",
        "        print(\"Task not found.\")\n",
        "\n",
        "# Main Loop\n",
        "while True:\n",
        "    print(\"\\n--- To-Do List Menu ---\")\n",
        "    print(\"1. Add Task\")\n",
        "    print(\"2. View Tasks\")\n",
        "    print(\"3. Mark as Complete\")\n",
        "    print(\"4. Exit\")\n",
        "\n",
        "    choice = input(\"Enter your choice: \")\n",
        "\n",
        "    if choice == '1':\n",
        "        task = input(\"Enter new task: \")\n",
        "        add_task(task)\n",
        "    elif choice == '2':\n",
        "        view_tasks()\n",
        "    elif choice == '3':\n",
        "        task_id = int(input(\"Enter task ID to mark as complete: \"))\n",
        "        mark_complete(task_id)\n",
        "    elif choice == '4':\n",
        "        print(\"Exiting To-Do List.\")\n",
        "        break\n",
        "    else:\n",
        "        print(\"Invalid choice. Please try again.\")\n"
      ]
    },
    {
      "cell_type": "code",
      "source": [],
      "metadata": {
        "id": "uP8L_L4rAKiF"
      },
      "execution_count": null,
      "outputs": []
    }
  ]
}